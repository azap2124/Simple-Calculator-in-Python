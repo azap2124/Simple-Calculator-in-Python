{
 "cells": [
  {
   "cell_type": "code",
   "execution_count": null,
   "id": "8bc74c7a",
   "metadata": {
    "scrolled": true
   },
   "outputs": [
    {
     "name": "stdout",
     "output_type": "stream",
     "text": [
      "Enter 'A' for Addition.\n",
      "Enter 'S' for Subtraction.\n",
      "Enter 'D' for Division.\n",
      "Enter 'M' for Multiplication.\n"
     ]
    }
   ],
   "source": [
    "def add(num1,num2):\n",
    "    return num1 + num2 \n",
    "\n",
    "def subtract(num1,num2):\n",
    "    return num1 - num2\n",
    "\n",
    "def multiply(num1,num2):\n",
    "    return num1 * num2\n",
    "\n",
    "def divide(num1,num2):\n",
    "    return num1 / num2 \n",
    "\n",
    "print(\"Enter 'A' for Addition.\")\n",
    "print(\"Enter 'S' for Subtraction.\")\n",
    "print(\"Enter 'D' for Division.\")\n",
    "print(\"Enter 'M' for Multiplication.\")\n",
    "\n",
    "\n",
    "while True:\n",
    "    \n",
    "    choice = input(\"Enter operation choice (A,S,M,D): \")\n",
    "\n",
    "    if choice.lower() in ['a','add', 'addition','sum','s','subtract','subtraction','minus','m','multiply','multiplication','d','divide','division']:\n",
    "        try: \n",
    "            num1 = float(input(\"Enter first number: \"))\n",
    "            num2 = float(input(\"Enter second number: \"))  \n",
    "            if choice.lower() in ['a','add', 'addition','sum']:\n",
    "                print('Result:',num1,'+',num2,'=', add(num1,num2))\n",
    "            elif choice.lower() in ['s','subtract','subtraction','minus']:\n",
    "                print('Result:',num1,'-',num2,'=', subtract(num1,num2))\n",
    "            elif choice.lower() in ['m','multiply','multiplication']:\n",
    "                print('Result:',num1,'*',num2,'=', multiply(num1,num2))\n",
    "            elif choice.lower() in ['d','divide','division']:\n",
    "                print('Result:',num1,'/',num2,'=', divide(num1,num2))\n",
    "        except ValueError: \n",
    "                print('Please enter a number.')\n",
    "\n",
    "    else: \n",
    "        print('Please enter a correct operation.')\n",
    "    next_calculation = input('Would you like to calculate something else? (yes/no): ')\n",
    "    \n",
    "    if next_calculation.lower() in ['n','no','nope']:\n",
    "        break"
   ]
  }
 ],
 "metadata": {
  "kernelspec": {
   "display_name": "Python 3 (ipykernel)",
   "language": "python",
   "name": "python3"
  },
  "language_info": {
   "codemirror_mode": {
    "name": "ipython",
    "version": 3
   },
   "file_extension": ".py",
   "mimetype": "text/x-python",
   "name": "python",
   "nbconvert_exporter": "python",
   "pygments_lexer": "ipython3",
   "version": "3.11.4"
  }
 },
 "nbformat": 4,
 "nbformat_minor": 5
}
